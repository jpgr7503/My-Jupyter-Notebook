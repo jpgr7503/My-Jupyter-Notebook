{
  "metadata": {
    "language_info": {
      "codemirror_mode": {
        "name": "python",
        "version": 3
      },
      "file_extension": ".py",
      "mimetype": "text/x-python",
      "name": "python",
      "nbconvert_exporter": "python",
      "pygments_lexer": "ipython3",
      "version": "3.8"
    },
    "kernelspec": {
      "name": "python",
      "display_name": "Python (Pyodide)",
      "language": "python"
    }
  },
  "nbformat_minor": 4,
  "nbformat": 4,
  "cells": [
    {
      "cell_type": "markdown",
      "source": "# My Jupyter Notebook",
      "metadata": {}
    },
    {
      "cell_type": "markdown",
      "source": "**Juan Pablo Guerrero Rodríguez**\nCurrent Occupation: Student",
      "metadata": {}
    },
    {
      "cell_type": "markdown",
      "source": "*I am interested in data science because it allows me to extract valuable insights from data and make data-driven decisions that can have a real impact on various industries and domains..*",
      "metadata": {}
    },
    {
      "cell_type": "markdown",
      "source": "### The code in Cell 5 will perform a simple addition operation and display the result.",
      "metadata": {}
    },
    {
      "cell_type": "code",
      "source": "# Perform a simple addition operation\nresult = 9 + 10\nresult",
      "metadata": {
        "trusted": true
      },
      "execution_count": 5,
      "outputs": [
        {
          "execution_count": 5,
          "output_type": "execute_result",
          "data": {
            "text/plain": "19"
          },
          "metadata": {}
        }
      ]
    },
    {
      "cell_type": "markdown",
      "source": "Strikethrough: ~~This text is strikethrough.~~",
      "metadata": {}
    },
    {
      "cell_type": "markdown",
      "source": "- Test",
      "metadata": {}
    },
    {
      "cell_type": "markdown",
      "source": "*** ",
      "metadata": {}
    },
    {
      "cell_type": "markdown",
      "source": "(No pude continuar usando IBM Cloud, ya que el codigo arrojo error) (I could not continue using IBM Cloud, since the code threw an error) ",
      "metadata": {}
    },
    {
      "cell_type": "markdown",
      "source": "",
      "metadata": {}
    }
  ]
}